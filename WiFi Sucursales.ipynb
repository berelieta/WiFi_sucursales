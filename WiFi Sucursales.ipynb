{
 "cells": [
  {
   "cell_type": "code",
   "execution_count": 12,
   "metadata": {},
   "outputs": [],
   "source": [
    "import pandas as pd\n",
    "import numpy as np\n",
    "import requests\n",
    "import json\n",
    "from pprint import pprint\n",
    "import matplotlib.pyplot as plt"
   ]
  },
  {
   "cell_type": "markdown",
   "metadata": {},
   "source": [
    "# INFORMACIÓN DE DIGITAL"
   ]
  },
  {
   "cell_type": "code",
   "execution_count": 65,
   "metadata": {},
   "outputs": [
    {
     "data": {
      "text/html": [
       "<div>\n",
       "<style scoped>\n",
       "    .dataframe tbody tr th:only-of-type {\n",
       "        vertical-align: middle;\n",
       "    }\n",
       "\n",
       "    .dataframe tbody tr th {\n",
       "        vertical-align: top;\n",
       "    }\n",
       "\n",
       "    .dataframe thead th {\n",
       "        text-align: right;\n",
       "    }\n",
       "</style>\n",
       "<table border=\"1\" class=\"dataframe\">\n",
       "  <thead>\n",
       "    <tr style=\"text-align: right;\">\n",
       "      <th></th>\n",
       "      <th>FCUSERNAME</th>\n",
       "      <th>FDINICIO_SESION</th>\n",
       "      <th>FCSUCURSAL</th>\n",
       "      <th>FCMAC</th>\n",
       "      <th>FIUSUARIO_ID</th>\n",
       "    </tr>\n",
       "  </thead>\n",
       "  <tbody>\n",
       "    <tr>\n",
       "      <th>0</th>\n",
       "      <td>BazEktWFauto</td>\n",
       "      <td>2021-03-16 08:34:20-06</td>\n",
       "      <td>2784.0</td>\n",
       "      <td>D4:C9:4B:1D:98:C4</td>\n",
       "      <td>3405.0</td>\n",
       "    </tr>\n",
       "    <tr>\n",
       "      <th>1</th>\n",
       "      <td>BazEktWFauto</td>\n",
       "      <td>2021-03-16 08:54:46-06</td>\n",
       "      <td>2784.0</td>\n",
       "      <td>B4:1C:30:65:DF:F6</td>\n",
       "      <td>3406.0</td>\n",
       "    </tr>\n",
       "    <tr>\n",
       "      <th>2</th>\n",
       "      <td>BazEktWFauto</td>\n",
       "      <td>2021-03-16 12:44:49-06</td>\n",
       "      <td>2784.0</td>\n",
       "      <td>36:D2:F4:FE:96:25</td>\n",
       "      <td>3410.0</td>\n",
       "    </tr>\n",
       "    <tr>\n",
       "      <th>3</th>\n",
       "      <td>BazEktWFauto</td>\n",
       "      <td>2021-03-16 12:50:34-06</td>\n",
       "      <td>2784.0</td>\n",
       "      <td>36:D2:F4:FE:96:25</td>\n",
       "      <td>3411.0</td>\n",
       "    </tr>\n",
       "    <tr>\n",
       "      <th>4</th>\n",
       "      <td>BazEktWFauto</td>\n",
       "      <td>2021-03-16 13:15:17-06</td>\n",
       "      <td>2784.0</td>\n",
       "      <td>36:D2:F4:FE:96:25</td>\n",
       "      <td>3413.0</td>\n",
       "    </tr>\n",
       "  </tbody>\n",
       "</table>\n",
       "</div>"
      ],
      "text/plain": [
       "     FCUSERNAME         FDINICIO_SESION  FCSUCURSAL              FCMAC  \\\n",
       "0  BazEktWFauto  2021-03-16 08:34:20-06      2784.0  D4:C9:4B:1D:98:C4   \n",
       "1  BazEktWFauto  2021-03-16 08:54:46-06      2784.0  B4:1C:30:65:DF:F6   \n",
       "2  BazEktWFauto  2021-03-16 12:44:49-06      2784.0  36:D2:F4:FE:96:25   \n",
       "3  BazEktWFauto  2021-03-16 12:50:34-06      2784.0  36:D2:F4:FE:96:25   \n",
       "4  BazEktWFauto  2021-03-16 13:15:17-06      2784.0  36:D2:F4:FE:96:25   \n",
       "\n",
       "   FIUSUARIO_ID  \n",
       "0        3405.0  \n",
       "1        3406.0  \n",
       "2        3410.0  \n",
       "3        3411.0  \n",
       "4        3413.0  "
      ]
     },
     "execution_count": 65,
     "metadata": {},
     "output_type": "execute_result"
    }
   ],
   "source": [
    "# csv file path\n",
    "dfd = \"Resources/FRTPUSRBDIGITAL.csv\"\n",
    "\n",
    "# Import csv file as a DataFrame\n",
    "df_digital = pd.read_csv(dfd,low_memory=False)\n",
    "\n",
    "# Filtrar por sucursal\n",
    "#df_digital = dfd.drop(dfd[dfd['FCSUCURSAL'] != '2784'].index)\n",
    "\n",
    "df_digital.head()"
   ]
  },
  {
   "cell_type": "code",
   "execution_count": null,
   "metadata": {},
   "outputs": [],
   "source": []
  },
  {
   "cell_type": "code",
   "execution_count": 44,
   "metadata": {},
   "outputs": [
    {
     "data": {
      "text/html": [
       "<div>\n",
       "<style scoped>\n",
       "    .dataframe tbody tr th:only-of-type {\n",
       "        vertical-align: middle;\n",
       "    }\n",
       "\n",
       "    .dataframe tbody tr th {\n",
       "        vertical-align: top;\n",
       "    }\n",
       "\n",
       "    .dataframe thead th {\n",
       "        text-align: right;\n",
       "    }\n",
       "</style>\n",
       "<table border=\"1\" class=\"dataframe\">\n",
       "  <thead>\n",
       "    <tr style=\"text-align: right;\">\n",
       "      <th></th>\n",
       "      <th>FCUSERNAME</th>\n",
       "      <th>FDINICIO_SESION</th>\n",
       "      <th>FCSUCURSAL</th>\n",
       "      <th>FCMAC</th>\n",
       "      <th>FIUSUARIO_ID</th>\n",
       "      <th>FDFECHA_MOD</th>\n",
       "      <th>FCUSUARIO_MOD</th>\n",
       "    </tr>\n",
       "  </thead>\n",
       "  <tbody>\n",
       "  </tbody>\n",
       "</table>\n",
       "</div>"
      ],
      "text/plain": [
       "Empty DataFrame\n",
       "Columns: [FCUSERNAME, FDINICIO_SESION, FCSUCURSAL, FCMAC, FIUSUARIO_ID, FDFECHA_MOD, FCUSUARIO_MOD]\n",
       "Index: []"
      ]
     },
     "execution_count": 44,
     "metadata": {},
     "output_type": "execute_result"
    }
   ],
   "source": [
    "# csv file path\n",
    "df = \"Resources/FRTPUSRBDIGITAL.csv\"\n",
    "\n",
    "# Import csv file as a DataFrame\n",
    "df = pd.read_csv(df,low_memory=False)\n",
    "#Filtrar solo por muertes de coronavirus\n",
    "dfcovid = df.drop(df[df['FCSUCURSAL'] != 2784].index)\n",
    "dfcovid.head()"
   ]
  },
  {
   "cell_type": "code",
   "execution_count": null,
   "metadata": {},
   "outputs": [],
   "source": []
  },
  {
   "cell_type": "code",
   "execution_count": null,
   "metadata": {},
   "outputs": [],
   "source": [
    "sesion_df =df_digital.groupby([\"FCMAC\"]).size().reset_index(name='NUM')\n",
    "sesion_df"
   ]
  },
  {
   "cell_type": "markdown",
   "metadata": {},
   "source": [
    "# INFORMACIÓN DE PORTAL"
   ]
  },
  {
   "cell_type": "code",
   "execution_count": 13,
   "metadata": {},
   "outputs": [
    {
     "name": "stderr",
     "output_type": "stream",
     "text": [
      "/Users/berenicecedillo/opt/anaconda3/lib/python3.8/site-packages/IPython/core/interactiveshell.py:3146: DtypeWarning: Columns (11) have mixed types.Specify dtype option on import or set low_memory=False.\n",
      "  has_raised = await self.run_ast_nodes(code_ast.body, cell_name,\n"
     ]
    },
    {
     "data": {
      "text/html": [
       "<div>\n",
       "<style scoped>\n",
       "    .dataframe tbody tr th:only-of-type {\n",
       "        vertical-align: middle;\n",
       "    }\n",
       "\n",
       "    .dataframe tbody tr th {\n",
       "        vertical-align: top;\n",
       "    }\n",
       "\n",
       "    .dataframe thead th {\n",
       "        text-align: right;\n",
       "    }\n",
       "</style>\n",
       "<table border=\"1\" class=\"dataframe\">\n",
       "  <thead>\n",
       "    <tr style=\"text-align: right;\">\n",
       "      <th></th>\n",
       "      <th>FISUSUARIO_ID</th>\n",
       "      <th>FCIP</th>\n",
       "      <th>FCMAC</th>\n",
       "      <th>FCUSERNAME</th>\n",
       "      <th>FCNOMBRE</th>\n",
       "      <th>FCAPELLIDO_PATERNO</th>\n",
       "      <th>FCAPELLIDO_MATERNO</th>\n",
       "      <th>FCNOMBRE_COMPLETO</th>\n",
       "      <th>FDINICIO_SESION</th>\n",
       "      <th>FCCORREO</th>\n",
       "      <th>FCENVIAR</th>\n",
       "      <th>FCSUCURSAL</th>\n",
       "      <th>RANGO_EDAD</th>\n",
       "      <th>GENERO</th>\n",
       "      <th>FCURLFOTO</th>\n",
       "      <th>FCTIPO_SESION</th>\n",
       "      <th>FCFASE_SESION</th>\n",
       "    </tr>\n",
       "  </thead>\n",
       "  <tbody>\n",
       "    <tr>\n",
       "      <th>0</th>\n",
       "      <td>1</td>\n",
       "      <td>192.168.60.33</td>\n",
       "      <td>B4:BF:F6:C6:B4:91</td>\n",
       "      <td>BazEktWF</td>\n",
       "      <td>NaN</td>\n",
       "      <td>NaN</td>\n",
       "      <td>NaN</td>\n",
       "      <td>NaN</td>\n",
       "      <td>14/12/20 00:24</td>\n",
       "      <td>NaN</td>\n",
       "      <td>NaN</td>\n",
       "      <td>2024</td>\n",
       "      <td>NaN</td>\n",
       "      <td>NaN</td>\n",
       "      <td>NaN</td>\n",
       "      <td>1</td>\n",
       "      <td>NaN</td>\n",
       "    </tr>\n",
       "    <tr>\n",
       "      <th>1</th>\n",
       "      <td>2</td>\n",
       "      <td>192.168.60.173</td>\n",
       "      <td>20:DA:22:07:F1:7B</td>\n",
       "      <td>BazEktWF</td>\n",
       "      <td>NaN</td>\n",
       "      <td>NaN</td>\n",
       "      <td>NaN</td>\n",
       "      <td>NaN</td>\n",
       "      <td>14/12/20 00:36</td>\n",
       "      <td>NaN</td>\n",
       "      <td>NaN</td>\n",
       "      <td>2066</td>\n",
       "      <td>NaN</td>\n",
       "      <td>NaN</td>\n",
       "      <td>NaN</td>\n",
       "      <td>1</td>\n",
       "      <td>NaN</td>\n",
       "    </tr>\n",
       "    <tr>\n",
       "      <th>2</th>\n",
       "      <td>3</td>\n",
       "      <td>192.168.60.254</td>\n",
       "      <td>B6:87:03:70:55:2C</td>\n",
       "      <td>BazEktWF</td>\n",
       "      <td>NaN</td>\n",
       "      <td>NaN</td>\n",
       "      <td>NaN</td>\n",
       "      <td>NaN</td>\n",
       "      <td>14/12/20 00:45</td>\n",
       "      <td>NaN</td>\n",
       "      <td>NaN</td>\n",
       "      <td>2066</td>\n",
       "      <td>NaN</td>\n",
       "      <td>NaN</td>\n",
       "      <td>NaN</td>\n",
       "      <td>1</td>\n",
       "      <td>NaN</td>\n",
       "    </tr>\n",
       "    <tr>\n",
       "      <th>3</th>\n",
       "      <td>4</td>\n",
       "      <td>192.168.60.172</td>\n",
       "      <td>40:4E:36:39:A1:70</td>\n",
       "      <td>BazEktWF</td>\n",
       "      <td>NaN</td>\n",
       "      <td>NaN</td>\n",
       "      <td>NaN</td>\n",
       "      <td>NaN</td>\n",
       "      <td>14/12/20 01:05</td>\n",
       "      <td>NaN</td>\n",
       "      <td>NaN</td>\n",
       "      <td>100</td>\n",
       "      <td>NaN</td>\n",
       "      <td>NaN</td>\n",
       "      <td>NaN</td>\n",
       "      <td>1</td>\n",
       "      <td>NaN</td>\n",
       "    </tr>\n",
       "    <tr>\n",
       "      <th>4</th>\n",
       "      <td>5</td>\n",
       "      <td>192.168.60.181</td>\n",
       "      <td>AC:AF:B9:41:96:10</td>\n",
       "      <td>BazEktWF</td>\n",
       "      <td>NaN</td>\n",
       "      <td>NaN</td>\n",
       "      <td>NaN</td>\n",
       "      <td>NaN</td>\n",
       "      <td>14/12/20 02:44</td>\n",
       "      <td>NaN</td>\n",
       "      <td>NaN</td>\n",
       "      <td>3612</td>\n",
       "      <td>NaN</td>\n",
       "      <td>NaN</td>\n",
       "      <td>NaN</td>\n",
       "      <td>1</td>\n",
       "      <td>NaN</td>\n",
       "    </tr>\n",
       "  </tbody>\n",
       "</table>\n",
       "</div>"
      ],
      "text/plain": [
       "   FISUSUARIO_ID            FCIP              FCMAC FCUSERNAME FCNOMBRE  \\\n",
       "0              1   192.168.60.33  B4:BF:F6:C6:B4:91   BazEktWF      NaN   \n",
       "1              2  192.168.60.173  20:DA:22:07:F1:7B   BazEktWF      NaN   \n",
       "2              3  192.168.60.254  B6:87:03:70:55:2C   BazEktWF      NaN   \n",
       "3              4  192.168.60.172  40:4E:36:39:A1:70   BazEktWF      NaN   \n",
       "4              5  192.168.60.181  AC:AF:B9:41:96:10   BazEktWF      NaN   \n",
       "\n",
       "  FCAPELLIDO_PATERNO  FCAPELLIDO_MATERNO  FCNOMBRE_COMPLETO FDINICIO_SESION  \\\n",
       "0                NaN                 NaN                NaN  14/12/20 00:24   \n",
       "1                NaN                 NaN                NaN  14/12/20 00:36   \n",
       "2                NaN                 NaN                NaN  14/12/20 00:45   \n",
       "3                NaN                 NaN                NaN  14/12/20 01:05   \n",
       "4                NaN                 NaN                NaN  14/12/20 02:44   \n",
       "\n",
       "  FCCORREO  FCENVIAR FCSUCURSAL RANGO_EDAD GENERO FCURLFOTO  FCTIPO_SESION  \\\n",
       "0      NaN       NaN       2024        NaN    NaN       NaN              1   \n",
       "1      NaN       NaN       2066        NaN    NaN       NaN              1   \n",
       "2      NaN       NaN       2066        NaN    NaN       NaN              1   \n",
       "3      NaN       NaN        100        NaN    NaN       NaN              1   \n",
       "4      NaN       NaN       3612        NaN    NaN       NaN              1   \n",
       "\n",
       "   FCFASE_SESION  \n",
       "0            NaN  \n",
       "1            NaN  \n",
       "2            NaN  \n",
       "3            NaN  \n",
       "4            NaN  "
      ]
     },
     "execution_count": 13,
     "metadata": {},
     "output_type": "execute_result"
    }
   ],
   "source": [
    "# csv file path\n",
    "dfp = \"Resources/PORTAL.csv\"\n",
    "\n",
    "# Import csv file as a DataFrame\n",
    "df_portal = pd.read_csv(dfp,encoding='latin-1')\n",
    "\n",
    "df_portal.head()"
   ]
  },
  {
   "cell_type": "code",
   "execution_count": 14,
   "metadata": {},
   "outputs": [
    {
     "data": {
      "text/html": [
       "<div>\n",
       "<style scoped>\n",
       "    .dataframe tbody tr th:only-of-type {\n",
       "        vertical-align: middle;\n",
       "    }\n",
       "\n",
       "    .dataframe tbody tr th {\n",
       "        vertical-align: top;\n",
       "    }\n",
       "\n",
       "    .dataframe thead th {\n",
       "        text-align: right;\n",
       "    }\n",
       "</style>\n",
       "<table border=\"1\" class=\"dataframe\">\n",
       "  <thead>\n",
       "    <tr style=\"text-align: right;\">\n",
       "      <th></th>\n",
       "      <th>FCMAC</th>\n",
       "      <th>NUM</th>\n",
       "    </tr>\n",
       "  </thead>\n",
       "  <tbody>\n",
       "    <tr>\n",
       "      <th>0</th>\n",
       "      <td>00:00:02:87:61:47</td>\n",
       "      <td>1</td>\n",
       "    </tr>\n",
       "    <tr>\n",
       "      <th>1</th>\n",
       "      <td>00:00:06:91:FA:12</td>\n",
       "      <td>1</td>\n",
       "    </tr>\n",
       "    <tr>\n",
       "      <th>2</th>\n",
       "      <td>00:00:91:0D:0B:1C</td>\n",
       "      <td>1</td>\n",
       "    </tr>\n",
       "    <tr>\n",
       "      <th>3</th>\n",
       "      <td>00:00:B0:6B:29:57</td>\n",
       "      <td>2</td>\n",
       "    </tr>\n",
       "    <tr>\n",
       "      <th>4</th>\n",
       "      <td>00:01:00:03:03:44</td>\n",
       "      <td>1</td>\n",
       "    </tr>\n",
       "    <tr>\n",
       "      <th>...</th>\n",
       "      <td>...</td>\n",
       "      <td>...</td>\n",
       "    </tr>\n",
       "    <tr>\n",
       "      <th>36775</th>\n",
       "      <td>FE:E6:61:2A:F5:97</td>\n",
       "      <td>1</td>\n",
       "    </tr>\n",
       "    <tr>\n",
       "      <th>36776</th>\n",
       "      <td>FE:F6:49:FC:C1:6F</td>\n",
       "      <td>4</td>\n",
       "    </tr>\n",
       "    <tr>\n",
       "      <th>36777</th>\n",
       "      <td>FE:F8:4A:56:BE:45</td>\n",
       "      <td>2</td>\n",
       "    </tr>\n",
       "    <tr>\n",
       "      <th>36778</th>\n",
       "      <td>FE:FB:3B:D5:43:8F</td>\n",
       "      <td>1</td>\n",
       "    </tr>\n",
       "    <tr>\n",
       "      <th>36779</th>\n",
       "      <td>FE:FE:D2:26:9E:30</td>\n",
       "      <td>1</td>\n",
       "    </tr>\n",
       "  </tbody>\n",
       "</table>\n",
       "<p>36780 rows × 2 columns</p>\n",
       "</div>"
      ],
      "text/plain": [
       "                   FCMAC  NUM\n",
       "0      00:00:02:87:61:47    1\n",
       "1      00:00:06:91:FA:12    1\n",
       "2      00:00:91:0D:0B:1C    1\n",
       "3      00:00:B0:6B:29:57    2\n",
       "4      00:01:00:03:03:44    1\n",
       "...                  ...  ...\n",
       "36775  FE:E6:61:2A:F5:97    1\n",
       "36776  FE:F6:49:FC:C1:6F    4\n",
       "36777  FE:F8:4A:56:BE:45    2\n",
       "36778  FE:FB:3B:D5:43:8F    1\n",
       "36779  FE:FE:D2:26:9E:30    1\n",
       "\n",
       "[36780 rows x 2 columns]"
      ]
     },
     "execution_count": 14,
     "metadata": {},
     "output_type": "execute_result"
    }
   ],
   "source": [
    "sesion2_df =df_portal.groupby([\"FCMAC\"]).size().reset_index(name='NUM')\n",
    "sesion2_df"
   ]
  },
  {
   "cell_type": "markdown",
   "metadata": {},
   "source": [
    "# Género"
   ]
  },
  {
   "cell_type": "code",
   "execution_count": 15,
   "metadata": {},
   "outputs": [
    {
     "data": {
      "text/html": [
       "<div>\n",
       "<style scoped>\n",
       "    .dataframe tbody tr th:only-of-type {\n",
       "        vertical-align: middle;\n",
       "    }\n",
       "\n",
       "    .dataframe tbody tr th {\n",
       "        vertical-align: top;\n",
       "    }\n",
       "\n",
       "    .dataframe thead th {\n",
       "        text-align: right;\n",
       "    }\n",
       "</style>\n",
       "<table border=\"1\" class=\"dataframe\">\n",
       "  <thead>\n",
       "    <tr style=\"text-align: right;\">\n",
       "      <th></th>\n",
       "      <th>GENERO</th>\n",
       "      <th>NUM</th>\n",
       "    </tr>\n",
       "  </thead>\n",
       "  <tbody>\n",
       "    <tr>\n",
       "      <th>0</th>\n",
       "      <td>femenino</td>\n",
       "      <td>2995</td>\n",
       "    </tr>\n",
       "    <tr>\n",
       "      <th>1</th>\n",
       "      <td>masculino</td>\n",
       "      <td>3453</td>\n",
       "    </tr>\n",
       "  </tbody>\n",
       "</table>\n",
       "</div>"
      ],
      "text/plain": [
       "      GENERO   NUM\n",
       "0   femenino  2995\n",
       "1  masculino  3453"
      ]
     },
     "execution_count": 15,
     "metadata": {},
     "output_type": "execute_result"
    }
   ],
   "source": [
    "gender_df =df_portal.groupby([\"GENERO\"]).size().reset_index(name='NUM')\n",
    "gender_df"
   ]
  },
  {
   "cell_type": "code",
   "execution_count": 16,
   "metadata": {},
   "outputs": [
    {
     "data": {
      "image/png": "[encoded data removed]",
      "text/plain": [
       "<Figure size 432x288 with 1 Axes>"
      ]
     },
     "metadata": {},
     "output_type": "display_data"
    }
   ],
   "source": [
    "# pie\n",
    "genero = df_portal[\"GENERO\"].value_counts().plot(kind='pie', autopct='%1.0f%%')\n",
    "\n",
    "#Save image\n",
    "plt.savefig(\"Resources/IMG/generoPie.png\")"
   ]
  },
  {
   "cell_type": "code",
   "execution_count": 17,
   "metadata": {},
   "outputs": [
    {
     "data": {
      "image/png": "[encoded data removed]",
      "text/plain": [
       "<Figure size 432x288 with 1 Axes>"
      ]
     },
     "metadata": {
      "needs_background": "light"
     },
     "output_type": "display_data"
    }
   ],
   "source": [
    "# bar chart\n",
    "#arrays\n",
    "dataGender = df_portal[\"GENERO\"].to_list()\n",
    "\n",
    "# set width of bar\n",
    "barWidth = 0.25\n",
    " \n",
    "# set height of bar\n",
    "males = gender_df[gender_df.GENERO == 'masculino']\n",
    "bars1 = males['NUM'].to_list()\n",
    "\n",
    "females = gender_df[gender_df.GENERO == 'femenino']\n",
    "bars2 = females['NUM'].to_list()\n",
    " \n",
    "# Set position of bar on X axis\n",
    "r1 = np.arange(len(bars1))\n",
    "r2 = [x + barWidth for x in r1]\n",
    " \n",
    "# Make the plot\n",
    "plt.bar(r1, bars1, color='blue', width=barWidth, edgecolor='white', label='masculino')\n",
    "plt.bar(r2, bars2, color='pink', width=barWidth, edgecolor='white', label='femenino')\n",
    " \n",
    "# Add xticks on the middle of the group bars\n",
    "\n",
    "\n",
    "plt.xlabel('GÉNERO', fontweight='bold')\n",
    "#plt.xticks([r + barWidth for r in range(len(bars1))], dataGender)\n",
    "\n",
    "#Save image\n",
    "plt.savefig(\"Resources/IMG/generoBar.png\")\n",
    " \n",
    "# Create legend & Show graphic\n",
    "plt.legend()\n",
    "plt.show()"
   ]
  },
  {
   "cell_type": "markdown",
   "metadata": {},
   "source": [
    "# Rango edad"
   ]
  },
  {
   "cell_type": "code",
   "execution_count": 68,
   "metadata": {},
   "outputs": [
    {
     "data": {
      "text/html": [
       "<div>\n",
       "<style scoped>\n",
       "    .dataframe tbody tr th:only-of-type {\n",
       "        vertical-align: middle;\n",
       "    }\n",
       "\n",
       "    .dataframe tbody tr th {\n",
       "        vertical-align: top;\n",
       "    }\n",
       "\n",
       "    .dataframe thead th {\n",
       "        text-align: right;\n",
       "    }\n",
       "</style>\n",
       "<table border=\"1\" class=\"dataframe\">\n",
       "  <thead>\n",
       "    <tr style=\"text-align: right;\">\n",
       "      <th></th>\n",
       "      <th>FCRANGO_EDAD</th>\n",
       "      <th>NUM</th>\n",
       "    </tr>\n",
       "  </thead>\n",
       "  <tbody>\n",
       "    <tr>\n",
       "      <th>0</th>\n",
       "      <td>16 a 20</td>\n",
       "      <td>3</td>\n",
       "    </tr>\n",
       "    <tr>\n",
       "      <th>1</th>\n",
       "      <td>21 a 25</td>\n",
       "      <td>2</td>\n",
       "    </tr>\n",
       "    <tr>\n",
       "      <th>2</th>\n",
       "      <td>51 a 55</td>\n",
       "      <td>1</td>\n",
       "    </tr>\n",
       "    <tr>\n",
       "      <th>3</th>\n",
       "      <td>Menos de 10</td>\n",
       "      <td>1</td>\n",
       "    </tr>\n",
       "  </tbody>\n",
       "</table>\n",
       "</div>"
      ],
      "text/plain": [
       "  FCRANGO_EDAD  NUM\n",
       "0      16 a 20    3\n",
       "1      21 a 25    2\n",
       "2      51 a 55    1\n",
       "3  Menos de 10    1"
      ]
     },
     "execution_count": 68,
     "metadata": {},
     "output_type": "execute_result"
    }
   ],
   "source": [
    "edad_df =df_portal.groupby([\"FCRANGO_EDAD\"]).size().reset_index(name='NUM')\n",
    "edad_df"
   ]
  },
  {
   "cell_type": "code",
   "execution_count": 69,
   "metadata": {},
   "outputs": [
    {
     "data": {
      "image/png": "[encoded data removed]",
      "text/plain": [
       "<Figure size 432x288 with 1 Axes>"
      ]
     },
     "metadata": {
      "needs_background": "light"
     },
     "output_type": "display_data"
    }
   ],
   "source": [
    "a = df_portal[\"FCRANGO_EDAD\"].value_counts()\n",
    "%matplotlib inline\n",
    "a.plot(kind='bar')\n",
    "#a.plot(kind='bar',color =['blue', 'green'] )\n",
    "\n",
    "plt.xlabel(\"Género\")\n",
    "plt.ylabel(\"Numero de sesiones\")\n",
    "plt.title(\"Grafica de rango de edad\")\n",
    "\n",
    "#Save image\n",
    "#plt.savefig(\"Resources/IMG/rangoEdad.png\")\n",
    "plt.show()"
   ]
  },
  {
   "cell_type": "code",
   "execution_count": 51,
   "metadata": {},
   "outputs": [
    {
     "data": {
      "text/html": [
       "<div>\n",
       "<style scoped>\n",
       "    .dataframe tbody tr th:only-of-type {\n",
       "        vertical-align: middle;\n",
       "    }\n",
       "\n",
       "    .dataframe tbody tr th {\n",
       "        vertical-align: top;\n",
       "    }\n",
       "\n",
       "    .dataframe thead th {\n",
       "        text-align: right;\n",
       "    }\n",
       "</style>\n",
       "<table border=\"1\" class=\"dataframe\">\n",
       "  <thead>\n",
       "    <tr style=\"text-align: right;\">\n",
       "      <th></th>\n",
       "      <th>FCMAC</th>\n",
       "      <th>NUM</th>\n",
       "    </tr>\n",
       "  </thead>\n",
       "  <tbody>\n",
       "    <tr>\n",
       "      <th>0</th>\n",
       "      <td>02:BF:F9:C8:61:44</td>\n",
       "      <td>1</td>\n",
       "    </tr>\n",
       "    <tr>\n",
       "      <th>1</th>\n",
       "      <td>08:AA:55:BE:9E:AD</td>\n",
       "      <td>1</td>\n",
       "    </tr>\n",
       "    <tr>\n",
       "      <th>2</th>\n",
       "      <td>08:CC:27:F6:DF:EA</td>\n",
       "      <td>3</td>\n",
       "    </tr>\n",
       "    <tr>\n",
       "      <th>3</th>\n",
       "      <td>0C:8F:FF:5E:E5:FB</td>\n",
       "      <td>1</td>\n",
       "    </tr>\n",
       "    <tr>\n",
       "      <th>4</th>\n",
       "      <td>0E:4E:39:E2:2D:FA</td>\n",
       "      <td>1</td>\n",
       "    </tr>\n",
       "    <tr>\n",
       "      <th>...</th>\n",
       "      <td>...</td>\n",
       "      <td>...</td>\n",
       "    </tr>\n",
       "    <tr>\n",
       "      <th>63</th>\n",
       "      <td>E6:F8:FF:68:C1:56</td>\n",
       "      <td>1</td>\n",
       "    </tr>\n",
       "    <tr>\n",
       "      <th>64</th>\n",
       "      <td>E8:7F:95:DC:A1:52</td>\n",
       "      <td>1</td>\n",
       "    </tr>\n",
       "    <tr>\n",
       "      <th>65</th>\n",
       "      <td>EC:3C:BB:C2:10:6B</td>\n",
       "      <td>1</td>\n",
       "    </tr>\n",
       "    <tr>\n",
       "      <th>66</th>\n",
       "      <td>F0:D7:AA:85:CD:C4</td>\n",
       "      <td>1</td>\n",
       "    </tr>\n",
       "    <tr>\n",
       "      <th>67</th>\n",
       "      <td>F4:71:90:69:33:3E</td>\n",
       "      <td>1</td>\n",
       "    </tr>\n",
       "  </tbody>\n",
       "</table>\n",
       "<p>68 rows × 2 columns</p>\n",
       "</div>"
      ],
      "text/plain": [
       "                FCMAC  NUM\n",
       "0   02:BF:F9:C8:61:44    1\n",
       "1   08:AA:55:BE:9E:AD    1\n",
       "2   08:CC:27:F6:DF:EA    3\n",
       "3   0C:8F:FF:5E:E5:FB    1\n",
       "4   0E:4E:39:E2:2D:FA    1\n",
       "..                ...  ...\n",
       "63  E6:F8:FF:68:C1:56    1\n",
       "64  E8:7F:95:DC:A1:52    1\n",
       "65  EC:3C:BB:C2:10:6B    1\n",
       "66  F0:D7:AA:85:CD:C4    1\n",
       "67  F4:71:90:69:33:3E    1\n",
       "\n",
       "[68 rows x 2 columns]"
      ]
     },
     "execution_count": 51,
     "metadata": {},
     "output_type": "execute_result"
    }
   ],
   "source": [
    "sesionP_df =df_portal.groupby([\"FCMAC\"]).size().reset_index(name='NUM')\n",
    "#sesion = sesionP_df.drop(df[df['NUM'] != 1].index)\n",
    "\n",
    "sesionP_df"
   ]
  },
  {
   "cell_type": "markdown",
   "metadata": {},
   "source": [
    "# INFORMACIÓN DE WIFI"
   ]
  },
  {
   "cell_type": "code",
   "execution_count": 76,
   "metadata": {},
   "outputs": [
    {
     "data": {
      "text/html": [
       "<div>\n",
       "<style scoped>\n",
       "    .dataframe tbody tr th:only-of-type {\n",
       "        vertical-align: middle;\n",
       "    }\n",
       "\n",
       "    .dataframe tbody tr th {\n",
       "        vertical-align: top;\n",
       "    }\n",
       "\n",
       "    .dataframe thead th {\n",
       "        text-align: right;\n",
       "    }\n",
       "</style>\n",
       "<table border=\"1\" class=\"dataframe\">\n",
       "  <thead>\n",
       "    <tr style=\"text-align: right;\">\n",
       "      <th></th>\n",
       "      <th>FICLIENTE_ID</th>\n",
       "      <th>FIDEVICE_ID</th>\n",
       "      <th>FCMAC</th>\n",
       "      <th>FCIP</th>\n",
       "      <th>FCHOSTNAME</th>\n",
       "      <th>FCUSERNAME</th>\n",
       "      <th>FCOS</th>\n",
       "      <th>FCCONNECTED</th>\n",
       "      <th>FIUSAGE</th>\n",
       "      <th>FIVLAN</th>\n",
       "      <th>...</th>\n",
       "      <th>FDFIN_SESION</th>\n",
       "      <th>FCUSER_PROFILE</th>\n",
       "      <th>FICLIENTEHEALTH</th>\n",
       "      <th>FIAPPHEALTH</th>\n",
       "      <th>FINETWORK</th>\n",
       "      <th>FIRADIO_HEALTH</th>\n",
       "      <th>FCTIPO_CONEXION</th>\n",
       "      <th>FCSTATUS_CONEXION</th>\n",
       "      <th>FDFECHA_MOD</th>\n",
       "      <th>FCUSUARIO_MOD</th>\n",
       "    </tr>\n",
       "  </thead>\n",
       "  <tbody>\n",
       "    <tr>\n",
       "      <th>0</th>\n",
       "      <td>111016361062427</td>\n",
       "      <td>111016314972618</td>\n",
       "      <td>44D791C81F40</td>\n",
       "      <td>192.168.60.98</td>\n",
       "      <td>HUAWEI_P30_lite-329574325</td>\n",
       "      <td>NaN</td>\n",
       "      <td>Android</td>\n",
       "      <td>False</td>\n",
       "      <td>3548</td>\n",
       "      <td>60</td>\n",
       "      <td>...</td>\n",
       "      <td>06/03/21 03:24:23.000000000</td>\n",
       "      <td>VLAN_60</td>\n",
       "      <td>40</td>\n",
       "      <td>100</td>\n",
       "      <td>100</td>\n",
       "      <td>40</td>\n",
       "      <td>WIRELESS</td>\n",
       "      <td>DISCONNECTED</td>\n",
       "      <td>11/03/21</td>\n",
       "      <td>FRANQUICIA</td>\n",
       "    </tr>\n",
       "    <tr>\n",
       "      <th>1</th>\n",
       "      <td>111016373284428</td>\n",
       "      <td>111016315414569</td>\n",
       "      <td>5ED48506DCE0</td>\n",
       "      <td>192.168.60.193</td>\n",
       "      <td>NaN</td>\n",
       "      <td>NaN</td>\n",
       "      <td>Android</td>\n",
       "      <td>False</td>\n",
       "      <td>0</td>\n",
       "      <td>60</td>\n",
       "      <td>...</td>\n",
       "      <td>06/03/21 02:23:55.000000000</td>\n",
       "      <td>VLAN_60</td>\n",
       "      <td>0</td>\n",
       "      <td>0</td>\n",
       "      <td>0</td>\n",
       "      <td>100</td>\n",
       "      <td>WIRELESS</td>\n",
       "      <td>DISCONNECTED</td>\n",
       "      <td>11/03/21</td>\n",
       "      <td>FRANQUICIA</td>\n",
       "    </tr>\n",
       "    <tr>\n",
       "      <th>2</th>\n",
       "      <td>111016373284180</td>\n",
       "      <td>111016315414569</td>\n",
       "      <td>6244AC5972BB</td>\n",
       "      <td>192.168.60.184</td>\n",
       "      <td>Galaxy-A30s</td>\n",
       "      <td>NaN</td>\n",
       "      <td>Android</td>\n",
       "      <td>False</td>\n",
       "      <td>0</td>\n",
       "      <td>60</td>\n",
       "      <td>...</td>\n",
       "      <td>06/03/21 02:15:31.000000000</td>\n",
       "      <td>VLAN_60</td>\n",
       "      <td>100</td>\n",
       "      <td>100</td>\n",
       "      <td>100</td>\n",
       "      <td>100</td>\n",
       "      <td>WIRELESS</td>\n",
       "      <td>DISCONNECTED</td>\n",
       "      <td>11/03/21</td>\n",
       "      <td>FRANQUICIA</td>\n",
       "    </tr>\n",
       "    <tr>\n",
       "      <th>3</th>\n",
       "      <td>111016356745625</td>\n",
       "      <td>111016315418555</td>\n",
       "      <td>8CF11225EDE8</td>\n",
       "      <td>192.168.60.24</td>\n",
       "      <td>NaN</td>\n",
       "      <td>NaN</td>\n",
       "      <td>Android</td>\n",
       "      <td>False</td>\n",
       "      <td>0</td>\n",
       "      <td>60</td>\n",
       "      <td>...</td>\n",
       "      <td>06/03/21 02:31:37.000000000</td>\n",
       "      <td>VLAN_60</td>\n",
       "      <td>0</td>\n",
       "      <td>0</td>\n",
       "      <td>0</td>\n",
       "      <td>40</td>\n",
       "      <td>WIRELESS</td>\n",
       "      <td>DISCONNECTED</td>\n",
       "      <td>11/03/21</td>\n",
       "      <td>FRANQUICIA</td>\n",
       "    </tr>\n",
       "    <tr>\n",
       "      <th>4</th>\n",
       "      <td>111016346695033</td>\n",
       "      <td>111016315445669</td>\n",
       "      <td>149F3CF51489</td>\n",
       "      <td>0.0.0.0</td>\n",
       "      <td>android-9830c8d32e6d783b</td>\n",
       "      <td>NaN</td>\n",
       "      <td>Android</td>\n",
       "      <td>False</td>\n",
       "      <td>0</td>\n",
       "      <td>60</td>\n",
       "      <td>...</td>\n",
       "      <td>06/03/21 02:21:55.000000000</td>\n",
       "      <td>VLAN_60</td>\n",
       "      <td>100</td>\n",
       "      <td>100</td>\n",
       "      <td>100</td>\n",
       "      <td>100</td>\n",
       "      <td>WIRELESS</td>\n",
       "      <td>DISCONNECTED</td>\n",
       "      <td>11/03/21</td>\n",
       "      <td>FRANQUICIA</td>\n",
       "    </tr>\n",
       "  </tbody>\n",
       "</table>\n",
       "<p>5 rows × 22 columns</p>\n",
       "</div>"
      ],
      "text/plain": [
       "      FICLIENTE_ID      FIDEVICE_ID         FCMAC            FCIP  \\\n",
       "0  111016361062427  111016314972618  44D791C81F40   192.168.60.98   \n",
       "1  111016373284428  111016315414569  5ED48506DCE0  192.168.60.193   \n",
       "2  111016373284180  111016315414569  6244AC5972BB  192.168.60.184   \n",
       "3  111016356745625  111016315418555  8CF11225EDE8   192.168.60.24   \n",
       "4  111016346695033  111016315445669  149F3CF51489         0.0.0.0   \n",
       "\n",
       "                  FCHOSTNAME  FCUSERNAME     FCOS  FCCONNECTED  FIUSAGE  \\\n",
       "0  HUAWEI_P30_lite-329574325         NaN  Android        False     3548   \n",
       "1                        NaN         NaN  Android        False        0   \n",
       "2                Galaxy-A30s         NaN  Android        False        0   \n",
       "3                        NaN         NaN  Android        False        0   \n",
       "4   android-9830c8d32e6d783b         NaN  Android        False        0   \n",
       "\n",
       "   FIVLAN  ...                 FDFIN_SESION FCUSER_PROFILE FICLIENTEHEALTH  \\\n",
       "0      60  ...  06/03/21 03:24:23.000000000        VLAN_60              40   \n",
       "1      60  ...  06/03/21 02:23:55.000000000        VLAN_60               0   \n",
       "2      60  ...  06/03/21 02:15:31.000000000        VLAN_60             100   \n",
       "3      60  ...  06/03/21 02:31:37.000000000        VLAN_60               0   \n",
       "4      60  ...  06/03/21 02:21:55.000000000        VLAN_60             100   \n",
       "\n",
       "  FIAPPHEALTH  FINETWORK  FIRADIO_HEALTH  FCTIPO_CONEXION  FCSTATUS_CONEXION  \\\n",
       "0         100        100              40         WIRELESS       DISCONNECTED   \n",
       "1           0          0             100         WIRELESS       DISCONNECTED   \n",
       "2         100        100             100         WIRELESS       DISCONNECTED   \n",
       "3           0          0              40         WIRELESS       DISCONNECTED   \n",
       "4         100        100             100         WIRELESS       DISCONNECTED   \n",
       "\n",
       "  FDFECHA_MOD FCUSUARIO_MOD  \n",
       "0    11/03/21    FRANQUICIA  \n",
       "1    11/03/21    FRANQUICIA  \n",
       "2    11/03/21    FRANQUICIA  \n",
       "3    11/03/21    FRANQUICIA  \n",
       "4    11/03/21    FRANQUICIA  \n",
       "\n",
       "[5 rows x 22 columns]"
      ]
     },
     "execution_count": 76,
     "metadata": {},
     "output_type": "execute_result"
    }
   ],
   "source": [
    "# csv file path\n",
    "dfw = \"Resources/FRTPUSRWIFI.csv\"\n",
    "\n",
    "# Import csv file as a DataFrame\n",
    "df_wifi = pd.read_csv(dfw,low_memory=False)\n",
    "df_wifi.head()"
   ]
  },
  {
   "cell_type": "code",
   "execution_count": 77,
   "metadata": {},
   "outputs": [
    {
     "data": {
      "text/html": [
       "<div>\n",
       "<style scoped>\n",
       "    .dataframe tbody tr th:only-of-type {\n",
       "        vertical-align: middle;\n",
       "    }\n",
       "\n",
       "    .dataframe tbody tr th {\n",
       "        vertical-align: top;\n",
       "    }\n",
       "\n",
       "    .dataframe thead th {\n",
       "        text-align: right;\n",
       "    }\n",
       "</style>\n",
       "<table border=\"1\" class=\"dataframe\">\n",
       "  <thead>\n",
       "    <tr style=\"text-align: right;\">\n",
       "      <th></th>\n",
       "      <th>FCMAC</th>\n",
       "      <th>NUM</th>\n",
       "    </tr>\n",
       "  </thead>\n",
       "  <tbody>\n",
       "    <tr>\n",
       "      <th>0</th>\n",
       "      <td>00000289F05A</td>\n",
       "      <td>1</td>\n",
       "    </tr>\n",
       "    <tr>\n",
       "      <th>1</th>\n",
       "      <td>0000B06B2957</td>\n",
       "      <td>1</td>\n",
       "    </tr>\n",
       "    <tr>\n",
       "      <th>2</th>\n",
       "      <td>0001019D5A5D</td>\n",
       "      <td>1</td>\n",
       "    </tr>\n",
       "    <tr>\n",
       "      <th>3</th>\n",
       "      <td>00030832379F</td>\n",
       "      <td>2</td>\n",
       "    </tr>\n",
       "    <tr>\n",
       "      <th>4</th>\n",
       "      <td>000308347150</td>\n",
       "      <td>1</td>\n",
       "    </tr>\n",
       "    <tr>\n",
       "      <th>...</th>\n",
       "      <td>...</td>\n",
       "      <td>...</td>\n",
       "    </tr>\n",
       "    <tr>\n",
       "      <th>19993</th>\n",
       "      <td>FEF2FF329705</td>\n",
       "      <td>1</td>\n",
       "    </tr>\n",
       "    <tr>\n",
       "      <th>19994</th>\n",
       "      <td>FEF73EF0E5C0</td>\n",
       "      <td>1</td>\n",
       "    </tr>\n",
       "    <tr>\n",
       "      <th>19995</th>\n",
       "      <td>FEFC7E6E2FAC</td>\n",
       "      <td>1</td>\n",
       "    </tr>\n",
       "    <tr>\n",
       "      <th>19996</th>\n",
       "      <td>FEFED2269E30</td>\n",
       "      <td>2</td>\n",
       "    </tr>\n",
       "    <tr>\n",
       "      <th>19997</th>\n",
       "      <td>FEFEFCE063A1</td>\n",
       "      <td>1</td>\n",
       "    </tr>\n",
       "  </tbody>\n",
       "</table>\n",
       "<p>19998 rows × 2 columns</p>\n",
       "</div>"
      ],
      "text/plain": [
       "              FCMAC  NUM\n",
       "0      00000289F05A    1\n",
       "1      0000B06B2957    1\n",
       "2      0001019D5A5D    1\n",
       "3      00030832379F    2\n",
       "4      000308347150    1\n",
       "...             ...  ...\n",
       "19993  FEF2FF329705    1\n",
       "19994  FEF73EF0E5C0    1\n",
       "19995  FEFC7E6E2FAC    1\n",
       "19996  FEFED2269E30    2\n",
       "19997  FEFEFCE063A1    1\n",
       "\n",
       "[19998 rows x 2 columns]"
      ]
     },
     "execution_count": 77,
     "metadata": {},
     "output_type": "execute_result"
    }
   ],
   "source": [
    "sesion3_df =df_wifi.groupby([\"FCMAC\"]).size().reset_index(name='NUM')\n",
    "sesion3_df"
   ]
  },
  {
   "cell_type": "markdown",
   "metadata": {},
   "source": [
    "# Sistema operativo"
   ]
  },
  {
   "cell_type": "code",
   "execution_count": 78,
   "metadata": {},
   "outputs": [
    {
     "data": {
      "text/html": [
       "<div>\n",
       "<style scoped>\n",
       "    .dataframe tbody tr th:only-of-type {\n",
       "        vertical-align: middle;\n",
       "    }\n",
       "\n",
       "    .dataframe tbody tr th {\n",
       "        vertical-align: top;\n",
       "    }\n",
       "\n",
       "    .dataframe thead th {\n",
       "        text-align: right;\n",
       "    }\n",
       "</style>\n",
       "<table border=\"1\" class=\"dataframe\">\n",
       "  <thead>\n",
       "    <tr style=\"text-align: right;\">\n",
       "      <th></th>\n",
       "      <th>FCOS</th>\n",
       "      <th>NUM</th>\n",
       "    </tr>\n",
       "  </thead>\n",
       "  <tbody>\n",
       "    <tr>\n",
       "      <th>0</th>\n",
       "      <td>Android</td>\n",
       "      <td>20033</td>\n",
       "    </tr>\n",
       "    <tr>\n",
       "      <th>1</th>\n",
       "      <td>Android OS</td>\n",
       "      <td>1301</td>\n",
       "    </tr>\n",
       "    <tr>\n",
       "      <th>2</th>\n",
       "      <td>Apple iOS</td>\n",
       "      <td>1150</td>\n",
       "    </tr>\n",
       "    <tr>\n",
       "      <th>3</th>\n",
       "      <td>Axis communications ab IPCamera</td>\n",
       "      <td>11</td>\n",
       "    </tr>\n",
       "    <tr>\n",
       "      <th>4</th>\n",
       "      <td>CrOS</td>\n",
       "      <td>44</td>\n",
       "    </tr>\n",
       "    <tr>\n",
       "      <th>5</th>\n",
       "      <td>Embedded OS</td>\n",
       "      <td>2</td>\n",
       "    </tr>\n",
       "    <tr>\n",
       "      <th>6</th>\n",
       "      <td>Linux</td>\n",
       "      <td>8</td>\n",
       "    </tr>\n",
       "    <tr>\n",
       "      <th>7</th>\n",
       "      <td>Slingbox</td>\n",
       "      <td>1</td>\n",
       "    </tr>\n",
       "    <tr>\n",
       "      <th>8</th>\n",
       "      <td>Tizen OS</td>\n",
       "      <td>56</td>\n",
       "    </tr>\n",
       "    <tr>\n",
       "      <th>9</th>\n",
       "      <td>Verizon Wireless Ellipsis 8</td>\n",
       "      <td>8</td>\n",
       "    </tr>\n",
       "    <tr>\n",
       "      <th>10</th>\n",
       "      <td>Windows 10</td>\n",
       "      <td>20</td>\n",
       "    </tr>\n",
       "    <tr>\n",
       "      <th>11</th>\n",
       "      <td>Windows 8/10</td>\n",
       "      <td>1</td>\n",
       "    </tr>\n",
       "    <tr>\n",
       "      <th>12</th>\n",
       "      <td>Xbox 360</td>\n",
       "      <td>1</td>\n",
       "    </tr>\n",
       "    <tr>\n",
       "      <th>13</th>\n",
       "      <td>unknown</td>\n",
       "      <td>5624</td>\n",
       "    </tr>\n",
       "  </tbody>\n",
       "</table>\n",
       "</div>"
      ],
      "text/plain": [
       "                               FCOS    NUM\n",
       "0                           Android  20033\n",
       "1                        Android OS   1301\n",
       "2                         Apple iOS   1150\n",
       "3   Axis communications ab IPCamera     11\n",
       "4                              CrOS     44\n",
       "5                       Embedded OS      2\n",
       "6                             Linux      8\n",
       "7                          Slingbox      1\n",
       "8                          Tizen OS     56\n",
       "9       Verizon Wireless Ellipsis 8      8\n",
       "10                       Windows 10     20\n",
       "11                     Windows 8/10      1\n",
       "12                         Xbox 360      1\n",
       "13                          unknown   5624"
      ]
     },
     "execution_count": 78,
     "metadata": {},
     "output_type": "execute_result"
    }
   ],
   "source": [
    "so_df =df_wifi.groupby([\"FCOS\"]).size().reset_index(name='NUM')\n",
    "so_df"
   ]
  },
  {
   "cell_type": "code",
   "execution_count": 79,
   "metadata": {},
   "outputs": [
    {
     "data": {
      "image/png": "[encoded data removed]",
      "text/plain": [
       "<Figure size 432x288 with 1 Axes>"
      ]
     },
     "metadata": {
      "needs_background": "light"
     },
     "output_type": "display_data"
    }
   ],
   "source": [
    "a = df_wifi[\"FCOS\"].value_counts()\n",
    "%matplotlib inline\n",
    "a.plot(kind='bar')\n",
    "\n",
    "plt.xlabel(\"Sistemas Operativos\")\n",
    "plt.ylabel(\"Numero de sesiones\")\n",
    "plt.title(\"Grafica de Sistemas Operativos\")\n",
    "\n",
    "#Save image\n",
    "#new_img = img.resize((256,256))\n",
    "#new_img.save('1-256x256.png','png')\n",
    "\n",
    "\n",
    "plt.savefig(\"Resources/IMG/sistemaOp.png\")\n",
    "plt.show()"
   ]
  },
  {
   "cell_type": "code",
   "execution_count": 56,
   "metadata": {},
   "outputs": [
    {
     "name": "stderr",
     "output_type": "stream",
     "text": [
      "<ipython-input-56-6e5ee64941d5>:3: MatplotlibDeprecationWarning: Adding an axes using the same arguments as a previous axes currently reuses the earlier instance.  In a future version, a new instance will always be created and returned.  Meanwhile, this warning can be suppressed, and the future behavior ensured, by passing a unique label to each axes instance.\n",
      "  plt.axes().set_xlabel('')\n",
      "<ipython-input-56-6e5ee64941d5>:4: MatplotlibDeprecationWarning: Adding an axes using the same arguments as a previous axes currently reuses the earlier instance.  In a future version, a new instance will always be created and returned.  Meanwhile, this warning can be suppressed, and the future behavior ensured, by passing a unique label to each axes instance.\n",
      "  plt.axes().set_ylabel('')\n"
     ]
    },
    {
     "data": {
      "text/plain": [
       "Text(0, 0.5, '')"
      ]
     },
     "execution_count": 56,
     "metadata": {},
     "output_type": "execute_result"
    },
    {
     "data": {
      "image/png": "[encoded data removed]",
      "text/plain": [
       "<Figure size 432x288 with 1 Axes>"
      ]
     },
     "metadata": {},
     "output_type": "display_data"
    }
   ],
   "source": [
    "#SO\n",
    "so_df = df_wifi[\"FCOS\"].value_counts().plot(kind='pie', autopct='%1.0f%%')\n",
    "plt.axes().set_xlabel('')\n",
    "plt.axes().set_ylabel('')\n",
    "\n",
    "#Save image\n",
    "#plt.savefig(\"Resources/IMG/Diabetes.png\")"
   ]
  },
  {
   "cell_type": "markdown",
   "metadata": {},
   "source": [
    "# MERGE"
   ]
  },
  {
   "cell_type": "code",
   "execution_count": 57,
   "metadata": {},
   "outputs": [
    {
     "ename": "KeyboardInterrupt",
     "evalue": "",
     "output_type": "error",
     "traceback": [
      "\u001b[0;31m---------------------------------------------------------------------------\u001b[0m",
      "\u001b[0;31mKeyboardInterrupt\u001b[0m                         Traceback (most recent call last)",
      "\u001b[0;32m<ipython-input-57-832b520cebf3>\u001b[0m in \u001b[0;36m<module>\u001b[0;34m\u001b[0m\n\u001b[1;32m      1\u001b[0m \u001b[0;31m# Merge two dataframes using an outer join\u001b[0m\u001b[0;34m\u001b[0m\u001b[0;34m\u001b[0m\u001b[0;34m\u001b[0m\u001b[0m\n\u001b[0;32m----> 2\u001b[0;31m \u001b[0mmerge_df\u001b[0m \u001b[0;34m=\u001b[0m \u001b[0mpd\u001b[0m\u001b[0;34m.\u001b[0m\u001b[0mmerge\u001b[0m\u001b[0;34m(\u001b[0m\u001b[0mdf_digital\u001b[0m\u001b[0;34m,\u001b[0m \u001b[0mdf_portal\u001b[0m\u001b[0;34m,\u001b[0m \u001b[0mon\u001b[0m\u001b[0;34m=\u001b[0m\u001b[0;34m\"FCMAC\"\u001b[0m\u001b[0;34m,\u001b[0m \u001b[0mhow\u001b[0m\u001b[0;34m=\u001b[0m\u001b[0;34m\"outer\"\u001b[0m\u001b[0;34m)\u001b[0m\u001b[0;34m\u001b[0m\u001b[0;34m\u001b[0m\u001b[0m\n\u001b[0m\u001b[1;32m      3\u001b[0m \u001b[0mmerge_df\u001b[0m\u001b[0;34m\u001b[0m\u001b[0;34m\u001b[0m\u001b[0m\n",
      "\u001b[0;32m~/opt/anaconda3/lib/python3.8/site-packages/pandas/core/reshape/merge.py\u001b[0m in \u001b[0;36mmerge\u001b[0;34m(left, right, how, on, left_on, right_on, left_index, right_index, sort, suffixes, copy, indicator, validate)\u001b[0m\n\u001b[1;32m     87\u001b[0m         \u001b[0mvalidate\u001b[0m\u001b[0;34m=\u001b[0m\u001b[0mvalidate\u001b[0m\u001b[0;34m,\u001b[0m\u001b[0;34m\u001b[0m\u001b[0;34m\u001b[0m\u001b[0m\n\u001b[1;32m     88\u001b[0m     )\n\u001b[0;32m---> 89\u001b[0;31m     \u001b[0;32mreturn\u001b[0m \u001b[0mop\u001b[0m\u001b[0;34m.\u001b[0m\u001b[0mget_result\u001b[0m\u001b[0;34m(\u001b[0m\u001b[0;34m)\u001b[0m\u001b[0;34m\u001b[0m\u001b[0;34m\u001b[0m\u001b[0m\n\u001b[0m\u001b[1;32m     90\u001b[0m \u001b[0;34m\u001b[0m\u001b[0m\n\u001b[1;32m     91\u001b[0m \u001b[0;34m\u001b[0m\u001b[0m\n",
      "\u001b[0;32m~/opt/anaconda3/lib/python3.8/site-packages/pandas/core/reshape/merge.py\u001b[0m in \u001b[0;36mget_result\u001b[0;34m(self)\u001b[0m\n\u001b[1;32m    675\u001b[0m         \u001b[0mrindexers\u001b[0m \u001b[0;34m=\u001b[0m \u001b[0;34m{\u001b[0m\u001b[0;36m1\u001b[0m\u001b[0;34m:\u001b[0m \u001b[0mright_indexer\u001b[0m\u001b[0;34m}\u001b[0m \u001b[0;32mif\u001b[0m \u001b[0mright_indexer\u001b[0m \u001b[0;32mis\u001b[0m \u001b[0;32mnot\u001b[0m \u001b[0;32mNone\u001b[0m \u001b[0;32melse\u001b[0m \u001b[0;34m{\u001b[0m\u001b[0;34m}\u001b[0m\u001b[0;34m\u001b[0m\u001b[0;34m\u001b[0m\u001b[0m\n\u001b[1;32m    676\u001b[0m \u001b[0;34m\u001b[0m\u001b[0m\n\u001b[0;32m--> 677\u001b[0;31m         result_data = concatenate_block_managers(\n\u001b[0m\u001b[1;32m    678\u001b[0m             \u001b[0;34m[\u001b[0m\u001b[0;34m(\u001b[0m\u001b[0mself\u001b[0m\u001b[0;34m.\u001b[0m\u001b[0mleft\u001b[0m\u001b[0;34m.\u001b[0m\u001b[0m_mgr\u001b[0m\u001b[0;34m,\u001b[0m \u001b[0mlindexers\u001b[0m\u001b[0;34m)\u001b[0m\u001b[0;34m,\u001b[0m \u001b[0;34m(\u001b[0m\u001b[0mself\u001b[0m\u001b[0;34m.\u001b[0m\u001b[0mright\u001b[0m\u001b[0;34m.\u001b[0m\u001b[0m_mgr\u001b[0m\u001b[0;34m,\u001b[0m \u001b[0mrindexers\u001b[0m\u001b[0;34m)\u001b[0m\u001b[0;34m]\u001b[0m\u001b[0;34m,\u001b[0m\u001b[0;34m\u001b[0m\u001b[0;34m\u001b[0m\u001b[0m\n\u001b[1;32m    679\u001b[0m             \u001b[0maxes\u001b[0m\u001b[0;34m=\u001b[0m\u001b[0;34m[\u001b[0m\u001b[0mllabels\u001b[0m\u001b[0;34m.\u001b[0m\u001b[0mappend\u001b[0m\u001b[0;34m(\u001b[0m\u001b[0mrlabels\u001b[0m\u001b[0;34m)\u001b[0m\u001b[0;34m,\u001b[0m \u001b[0mjoin_index\u001b[0m\u001b[0;34m]\u001b[0m\u001b[0;34m,\u001b[0m\u001b[0;34m\u001b[0m\u001b[0;34m\u001b[0m\u001b[0m\n",
      "\u001b[0;32m~/opt/anaconda3/lib/python3.8/site-packages/pandas/core/internals/concat.py\u001b[0m in \u001b[0;36mconcatenate_block_managers\u001b[0;34m(mgrs_indexers, axes, concat_axis, copy)\u001b[0m\n\u001b[1;32m     77\u001b[0m         \u001b[0;32melse\u001b[0m\u001b[0;34m:\u001b[0m\u001b[0;34m\u001b[0m\u001b[0;34m\u001b[0m\u001b[0m\n\u001b[1;32m     78\u001b[0m             b = make_block(\n\u001b[0;32m---> 79\u001b[0;31m                 \u001b[0m_concatenate_join_units\u001b[0m\u001b[0;34m(\u001b[0m\u001b[0mjoin_units\u001b[0m\u001b[0;34m,\u001b[0m \u001b[0mconcat_axis\u001b[0m\u001b[0;34m,\u001b[0m \u001b[0mcopy\u001b[0m\u001b[0;34m=\u001b[0m\u001b[0mcopy\u001b[0m\u001b[0;34m,\u001b[0m\u001b[0;34m)\u001b[0m\u001b[0;34m,\u001b[0m\u001b[0;34m\u001b[0m\u001b[0;34m\u001b[0m\u001b[0m\n\u001b[0m\u001b[1;32m     80\u001b[0m                 \u001b[0mplacement\u001b[0m\u001b[0;34m=\u001b[0m\u001b[0mplacement\u001b[0m\u001b[0;34m,\u001b[0m\u001b[0;34m\u001b[0m\u001b[0;34m\u001b[0m\u001b[0m\n\u001b[1;32m     81\u001b[0m             )\n",
      "\u001b[0;32m~/opt/anaconda3/lib/python3.8/site-packages/pandas/core/internals/concat.py\u001b[0m in \u001b[0;36m_concatenate_join_units\u001b[0;34m(join_units, concat_axis, copy)\u001b[0m\n\u001b[1;32m    314\u001b[0m     \u001b[0mempty_dtype\u001b[0m\u001b[0;34m,\u001b[0m \u001b[0mupcasted_na\u001b[0m \u001b[0;34m=\u001b[0m \u001b[0m_get_empty_dtype_and_na\u001b[0m\u001b[0;34m(\u001b[0m\u001b[0mjoin_units\u001b[0m\u001b[0;34m)\u001b[0m\u001b[0;34m\u001b[0m\u001b[0;34m\u001b[0m\u001b[0m\n\u001b[1;32m    315\u001b[0m \u001b[0;34m\u001b[0m\u001b[0m\n\u001b[0;32m--> 316\u001b[0;31m     to_concat = [\n\u001b[0m\u001b[1;32m    317\u001b[0m         \u001b[0mju\u001b[0m\u001b[0;34m.\u001b[0m\u001b[0mget_reindexed_values\u001b[0m\u001b[0;34m(\u001b[0m\u001b[0mempty_dtype\u001b[0m\u001b[0;34m=\u001b[0m\u001b[0mempty_dtype\u001b[0m\u001b[0;34m,\u001b[0m \u001b[0mupcasted_na\u001b[0m\u001b[0;34m=\u001b[0m\u001b[0mupcasted_na\u001b[0m\u001b[0;34m)\u001b[0m\u001b[0;34m\u001b[0m\u001b[0;34m\u001b[0m\u001b[0m\n\u001b[1;32m    318\u001b[0m         \u001b[0;32mfor\u001b[0m \u001b[0mju\u001b[0m \u001b[0;32min\u001b[0m \u001b[0mjoin_units\u001b[0m\u001b[0;34m\u001b[0m\u001b[0;34m\u001b[0m\u001b[0m\n",
      "\u001b[0;32m~/opt/anaconda3/lib/python3.8/site-packages/pandas/core/internals/concat.py\u001b[0m in \u001b[0;36m<listcomp>\u001b[0;34m(.0)\u001b[0m\n\u001b[1;32m    315\u001b[0m \u001b[0;34m\u001b[0m\u001b[0m\n\u001b[1;32m    316\u001b[0m     to_concat = [\n\u001b[0;32m--> 317\u001b[0;31m         \u001b[0mju\u001b[0m\u001b[0;34m.\u001b[0m\u001b[0mget_reindexed_values\u001b[0m\u001b[0;34m(\u001b[0m\u001b[0mempty_dtype\u001b[0m\u001b[0;34m=\u001b[0m\u001b[0mempty_dtype\u001b[0m\u001b[0;34m,\u001b[0m \u001b[0mupcasted_na\u001b[0m\u001b[0;34m=\u001b[0m\u001b[0mupcasted_na\u001b[0m\u001b[0;34m)\u001b[0m\u001b[0;34m\u001b[0m\u001b[0;34m\u001b[0m\u001b[0m\n\u001b[0m\u001b[1;32m    318\u001b[0m         \u001b[0;32mfor\u001b[0m \u001b[0mju\u001b[0m \u001b[0;32min\u001b[0m \u001b[0mjoin_units\u001b[0m\u001b[0;34m\u001b[0m\u001b[0;34m\u001b[0m\u001b[0m\n\u001b[1;32m    319\u001b[0m     ]\n",
      "\u001b[0;32m~/opt/anaconda3/lib/python3.8/site-packages/pandas/core/internals/concat.py\u001b[0m in \u001b[0;36mget_reindexed_values\u001b[0;34m(self, empty_dtype, upcasted_na)\u001b[0m\n\u001b[1;32m    299\u001b[0m         \u001b[0;32melse\u001b[0m\u001b[0;34m:\u001b[0m\u001b[0;34m\u001b[0m\u001b[0;34m\u001b[0m\u001b[0m\n\u001b[1;32m    300\u001b[0m             \u001b[0;32mfor\u001b[0m \u001b[0max\u001b[0m\u001b[0;34m,\u001b[0m \u001b[0mindexer\u001b[0m \u001b[0;32min\u001b[0m \u001b[0mself\u001b[0m\u001b[0;34m.\u001b[0m\u001b[0mindexers\u001b[0m\u001b[0;34m.\u001b[0m\u001b[0mitems\u001b[0m\u001b[0;34m(\u001b[0m\u001b[0;34m)\u001b[0m\u001b[0;34m:\u001b[0m\u001b[0;34m\u001b[0m\u001b[0;34m\u001b[0m\u001b[0m\n\u001b[0;32m--> 301\u001b[0;31m                 \u001b[0mvalues\u001b[0m \u001b[0;34m=\u001b[0m \u001b[0malgos\u001b[0m\u001b[0;34m.\u001b[0m\u001b[0mtake_nd\u001b[0m\u001b[0;34m(\u001b[0m\u001b[0mvalues\u001b[0m\u001b[0;34m,\u001b[0m \u001b[0mindexer\u001b[0m\u001b[0;34m,\u001b[0m \u001b[0maxis\u001b[0m\u001b[0;34m=\u001b[0m\u001b[0max\u001b[0m\u001b[0;34m,\u001b[0m \u001b[0mfill_value\u001b[0m\u001b[0;34m=\u001b[0m\u001b[0mfill_value\u001b[0m\u001b[0;34m)\u001b[0m\u001b[0;34m\u001b[0m\u001b[0;34m\u001b[0m\u001b[0m\n\u001b[0m\u001b[1;32m    302\u001b[0m \u001b[0;34m\u001b[0m\u001b[0m\n\u001b[1;32m    303\u001b[0m         \u001b[0;32mreturn\u001b[0m \u001b[0mvalues\u001b[0m\u001b[0;34m\u001b[0m\u001b[0;34m\u001b[0m\u001b[0m\n",
      "\u001b[0;31mKeyboardInterrupt\u001b[0m: "
     ]
    }
   ],
   "source": [
    " # Merge two dataframes using an outer join\n",
    "merge_df = pd.merge(df_digital, df_portal, on=\"FCMAC\", how=\"outer\")\n",
    "merge_df"
   ]
  },
  {
   "cell_type": "code",
   "execution_count": null,
   "metadata": {},
   "outputs": [],
   "source": [
    "merge2_df = pd.merge(df_wifi, df_portal, on=\"FCMAC\", how=\"outer\")\n",
    "merge2_df"
   ]
  },
  {
   "cell_type": "code",
   "execution_count": null,
   "metadata": {},
   "outputs": [],
   "source": [
    "sistemaop_df =merge2_df.groupby([\"FCOS\"]).size().reset_index(name='NUM')\n",
    "sistemaop_df"
   ]
  },
  {
   "cell_type": "code",
   "execution_count": null,
   "metadata": {},
   "outputs": [],
   "source": [
    "edadrank_df =merge2_df.groupby([\"FCRANGO_EDAD\"]).size().reset_index(name='NUM')\n",
    "edadrank_df"
   ]
  },
  {
   "cell_type": "code",
   "execution_count": null,
   "metadata": {},
   "outputs": [],
   "source": [
    "merge3_df = pd.merge(merge_df, merge2_df, on=\"FCMAC\", how=\"outer\")\n",
    "merge3_df"
   ]
  },
  {
   "cell_type": "code",
   "execution_count": null,
   "metadata": {},
   "outputs": [],
   "source": [
    "sesion4_df =merge3_df.groupby([\"FCMAC\"]).size().reset_index(name='NUM')\n",
    "sesion4_df"
   ]
  },
  {
   "cell_type": "markdown",
   "metadata": {},
   "source": [
    "# Tipificación de loggeos "
   ]
  },
  {
   "cell_type": "code",
   "execution_count": 73,
   "metadata": {},
   "outputs": [
    {
     "data": {
      "text/html": [
       "<div>\n",
       "<style scoped>\n",
       "    .dataframe tbody tr th:only-of-type {\n",
       "        vertical-align: middle;\n",
       "    }\n",
       "\n",
       "    .dataframe tbody tr th {\n",
       "        vertical-align: top;\n",
       "    }\n",
       "\n",
       "    .dataframe thead th {\n",
       "        text-align: right;\n",
       "    }\n",
       "</style>\n",
       "<table border=\"1\" class=\"dataframe\">\n",
       "  <thead>\n",
       "    <tr style=\"text-align: right;\">\n",
       "      <th></th>\n",
       "      <th>IDTIPO</th>\n",
       "      <th>TIPO</th>\n",
       "      <th>CONTEO</th>\n",
       "    </tr>\n",
       "  </thead>\n",
       "  <tbody>\n",
       "    <tr>\n",
       "      <th>0</th>\n",
       "      <td>1</td>\n",
       "      <td>Formulario</td>\n",
       "      <td>6</td>\n",
       "    </tr>\n",
       "    <tr>\n",
       "      <th>1</th>\n",
       "      <td>3</td>\n",
       "      <td>APP</td>\n",
       "      <td>4</td>\n",
       "    </tr>\n",
       "  </tbody>\n",
       "</table>\n",
       "</div>"
      ],
      "text/plain": [
       "   IDTIPO        TIPO  CONTEO\n",
       "0       1  Formulario       6\n",
       "1       3         APP       4"
      ]
     },
     "execution_count": 73,
     "metadata": {},
     "output_type": "execute_result"
    }
   ],
   "source": [
    "# csv file path\n",
    "dfusr = \"Resources/Usuarios.csv\"\n",
    "\n",
    "# Import csv file as a DataFrame\n",
    "df_usuarios = pd.read_csv(dfusr,low_memory=False)\n",
    "df_usuarios.head()"
   ]
  },
  {
   "cell_type": "code",
   "execution_count": 74,
   "metadata": {
    "scrolled": true
   },
   "outputs": [
    {
     "data": {
      "image/png": "[encoded data removed]",
      "text/plain": [
       "<Figure size 432x288 with 1 Axes>"
      ]
     },
     "metadata": {},
     "output_type": "display_data"
    }
   ],
   "source": [
    "# Pie chart, where the slices will be ordered and plotted counter-clockwise:\n",
    "labels = 'Formulario', 'APP'\n",
    "sizes = [6, 4]\n",
    "explode = (0, 0.1)  # only \"explode\" the 2nd slice (i.e. 'Hogs')\n",
    "\n",
    "fig1, ax1 = plt.subplots()\n",
    "ax1.pie(sizes, explode=explode, labels=labels, autopct='%1.1f%%',\n",
    "        shadow=True, startangle=90)\n",
    "ax1.axis('equal')  # Equal aspect ratio ensures that pie is drawn as a circle.\n",
    "\n",
    "plt.savefig(\"Resources/IMG/tipSesion.png\")\n",
    "plt.show()"
   ]
  },
  {
   "cell_type": "code",
   "execution_count": 75,
   "metadata": {},
   "outputs": [
    {
     "data": {
      "image/png": "[encoded data removed]",
      "text/plain": [
       "<Figure size 432x288 with 1 Axes>"
      ]
     },
     "metadata": {
      "needs_background": "light"
     },
     "output_type": "display_data"
    }
   ],
   "source": [
    "a = merge2_df[\"FCRANGO_EDAD\"].value_counts()\n",
    "%matplotlib inline\n",
    "a.plot(kind='bar')\n",
    "\n",
    "plt.xlabel(\"Rango edad\")\n",
    "plt.ylabel(\"Conteos\")\n",
    "plt.title(\"Grafica por Rangos de Edad\")\n",
    "\n",
    "#Save image\n",
    "#plt.savefig(\"Resources/IMG/gender.png\")\n",
    "plt.show()"
   ]
  },
  {
   "cell_type": "code",
   "execution_count": null,
   "metadata": {},
   "outputs": [],
   "source": [
    "from datetime import datetime, timedelta\n",
    "\n",
    "fecha_cad2 = '06/03/2021  3:24:23'\n",
    "#df_wifi[\"FDFIN_SESION\"]\n",
    "fecha_cad1 = '06/03/2021  2:13:40'\n",
    "#df_wifi[\"FDINICIO_SESION\"]\n",
    "fecha1 = datetime.strptime(fecha_cad1, '%d/%m/%Y %H:%M:%S')\n",
    "fecha2 = datetime.strptime(fecha_cad2, '%d/%m/%Y %H:%M:%S')\n",
    "\n",
    "res = fecha2 - fecha1\n",
    "print(res)"
   ]
  },
  {
   "cell_type": "markdown",
   "metadata": {},
   "source": [
    "# ZONIFICACIÓN"
   ]
  },
  {
   "cell_type": "code",
   "execution_count": null,
   "metadata": {},
   "outputs": [],
   "source": [
    "# csv file path\n",
    "dfz = \"Resources/zonifica.csv\"\n",
    "\n",
    "# Import csv file as a DataFrame\n",
    "df_zonas = pd.read_csv(dfz,encoding='latin-1')\n",
    "\n",
    "df_zonas.head()"
   ]
  },
  {
   "cell_type": "markdown",
   "metadata": {},
   "source": [
    "# Usuarios con mayo presencia por zona"
   ]
  },
  {
   "cell_type": "code",
   "execution_count": null,
   "metadata": {},
   "outputs": [],
   "source": [
    "zona_df= df_zonas.groupby([\"FCZONA\", 'FCMAC'])[['FCZONA', 'FCMAC']].count() \n",
    "zona_df =df_zonas.groupby([ \"FCZONA\", 'FCMAC']).size().reset_index(name='NUM')\n",
    "zona_df = zona_df.loc[zona_df[\"NUM\"] > 6, :]\n",
    "\n",
    "zona_df"
   ]
  },
  {
   "cell_type": "markdown",
   "metadata": {},
   "source": [
    "# Zona con mayor presencia"
   ]
  },
  {
   "cell_type": "code",
   "execution_count": null,
   "metadata": {},
   "outputs": [],
   "source": [
    "zona_df =df_zonas.groupby([\"Zona\"]).size().reset_index(name='NUM')\n",
    "zona_df"
   ]
  },
  {
   "cell_type": "code",
   "execution_count": null,
   "metadata": {},
   "outputs": [],
   "source": []
  }
 ],
 "metadata": {
  "kernelspec": {
   "display_name": "Python 3",
   "language": "python",
   "name": "python3"
  },
  "language_info": {
   "codemirror_mode": {
    "name": "ipython",
    "version": 3
   },
   "file_extension": ".py",
   "mimetype": "text/x-python",
   "name": "python",
   "nbconvert_exporter": "python",
   "pygments_lexer": "ipython3",
   "version": "3.8.5"
  }
 },
 "nbformat": 4,
 "nbformat_minor": 4
}
